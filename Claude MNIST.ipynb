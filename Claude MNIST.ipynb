{
  "nbformat": 4,
  "nbformat_minor": 0,
  "metadata": {
    "colab": {
      "provenance": [],
      "authorship_tag": "ABX9TyOrcvEdVI5HNMmyFnHdOddf",
      "include_colab_link": true
    },
    "kernelspec": {
      "name": "python3",
      "display_name": "Python 3"
    },
    "language_info": {
      "name": "python"
    }
  },
  "cells": [
    {
      "cell_type": "markdown",
      "metadata": {
        "id": "view-in-github",
        "colab_type": "text"
      },
      "source": [
        "<a href=\"https://colab.research.google.com/github/RaincallerMei/PyTorch-Deep-Learning/blob/main/Claude%20MNIST.ipynb\" target=\"_parent\"><img src=\"https://colab.research.google.com/assets/colab-badge.svg\" alt=\"Open In Colab\"/></a>"
      ]
    },
    {
      "cell_type": "code",
      "execution_count": null,
      "metadata": {
        "colab": {
          "base_uri": "https://localhost:8080/"
        },
        "id": "GqJFhIwJtUF8",
        "outputId": "bc397eeb-b42a-4ffa-816c-294cc67000de"
      },
      "outputs": [
        {
          "output_type": "stream",
          "name": "stdout",
          "text": [
            "Downloading http://yann.lecun.com/exdb/mnist/train-images-idx3-ubyte.gz\n",
            "Failed to download (trying next):\n",
            "HTTP Error 403: Forbidden\n",
            "\n",
            "Downloading https://ossci-datasets.s3.amazonaws.com/mnist/train-images-idx3-ubyte.gz\n",
            "Downloading https://ossci-datasets.s3.amazonaws.com/mnist/train-images-idx3-ubyte.gz to ./data/MNIST/raw/train-images-idx3-ubyte.gz\n"
          ]
        },
        {
          "output_type": "stream",
          "name": "stderr",
          "text": [
            "100%|██████████| 9.91M/9.91M [00:00<00:00, 53.7MB/s]\n"
          ]
        },
        {
          "output_type": "stream",
          "name": "stdout",
          "text": [
            "Extracting ./data/MNIST/raw/train-images-idx3-ubyte.gz to ./data/MNIST/raw\n",
            "\n",
            "Downloading http://yann.lecun.com/exdb/mnist/train-labels-idx1-ubyte.gz\n",
            "Failed to download (trying next):\n",
            "HTTP Error 403: Forbidden\n",
            "\n",
            "Downloading https://ossci-datasets.s3.amazonaws.com/mnist/train-labels-idx1-ubyte.gz\n",
            "Downloading https://ossci-datasets.s3.amazonaws.com/mnist/train-labels-idx1-ubyte.gz to ./data/MNIST/raw/train-labels-idx1-ubyte.gz\n"
          ]
        },
        {
          "output_type": "stream",
          "name": "stderr",
          "text": [
            "100%|██████████| 28.9k/28.9k [00:00<00:00, 1.78MB/s]"
          ]
        },
        {
          "output_type": "stream",
          "name": "stdout",
          "text": [
            "Extracting ./data/MNIST/raw/train-labels-idx1-ubyte.gz to ./data/MNIST/raw\n",
            "\n",
            "Downloading http://yann.lecun.com/exdb/mnist/t10k-images-idx3-ubyte.gz\n"
          ]
        },
        {
          "output_type": "stream",
          "name": "stderr",
          "text": [
            "\n"
          ]
        },
        {
          "output_type": "stream",
          "name": "stdout",
          "text": [
            "Failed to download (trying next):\n",
            "HTTP Error 403: Forbidden\n",
            "\n",
            "Downloading https://ossci-datasets.s3.amazonaws.com/mnist/t10k-images-idx3-ubyte.gz\n",
            "Downloading https://ossci-datasets.s3.amazonaws.com/mnist/t10k-images-idx3-ubyte.gz to ./data/MNIST/raw/t10k-images-idx3-ubyte.gz\n"
          ]
        },
        {
          "output_type": "stream",
          "name": "stderr",
          "text": [
            "100%|██████████| 1.65M/1.65M [00:00<00:00, 13.8MB/s]\n"
          ]
        },
        {
          "output_type": "stream",
          "name": "stdout",
          "text": [
            "Extracting ./data/MNIST/raw/t10k-images-idx3-ubyte.gz to ./data/MNIST/raw\n",
            "\n",
            "Downloading http://yann.lecun.com/exdb/mnist/t10k-labels-idx1-ubyte.gz\n",
            "Failed to download (trying next):\n",
            "HTTP Error 403: Forbidden\n",
            "\n",
            "Downloading https://ossci-datasets.s3.amazonaws.com/mnist/t10k-labels-idx1-ubyte.gz\n",
            "Downloading https://ossci-datasets.s3.amazonaws.com/mnist/t10k-labels-idx1-ubyte.gz to ./data/MNIST/raw/t10k-labels-idx1-ubyte.gz\n"
          ]
        },
        {
          "output_type": "stream",
          "name": "stderr",
          "text": [
            "100%|██████████| 4.54k/4.54k [00:00<00:00, 7.54MB/s]"
          ]
        },
        {
          "output_type": "stream",
          "name": "stdout",
          "text": [
            "Extracting ./data/MNIST/raw/t10k-labels-idx1-ubyte.gz to ./data/MNIST/raw\n",
            "\n"
          ]
        },
        {
          "output_type": "stream",
          "name": "stderr",
          "text": [
            "\n"
          ]
        },
        {
          "output_type": "stream",
          "name": "stdout",
          "text": [
            "Epoch [1/5], Step [100/938], Loss: 0.8465, Accuracy: 72.47%\n",
            "Epoch [1/5], Step [200/938], Loss: 0.2944, Accuracy: 81.96%\n",
            "Epoch [1/5], Step [300/938], Loss: 0.2077, Accuracy: 85.92%\n",
            "Epoch [1/5], Step [400/938], Loss: 0.1518, Accuracy: 88.33%\n",
            "Epoch [1/5], Step [500/938], Loss: 0.1399, Accuracy: 89.83%\n",
            "Epoch [1/5], Step [600/938], Loss: 0.1401, Accuracy: 90.89%\n",
            "Epoch [1/5], Step [700/938], Loss: 0.1157, Accuracy: 91.70%\n",
            "Epoch [1/5], Step [800/938], Loss: 0.1171, Accuracy: 92.29%\n",
            "Epoch [1/5], Step [900/938], Loss: 0.1087, Accuracy: 92.80%\n",
            "Validation Accuracy: 98.49%\n",
            "Epoch [2/5], Step [100/938], Loss: 0.0920, Accuracy: 97.41%\n",
            "Epoch [2/5], Step [200/938], Loss: 0.0798, Accuracy: 97.48%\n",
            "Epoch [2/5], Step [300/938], Loss: 0.0888, Accuracy: 97.38%\n",
            "Epoch [2/5], Step [400/938], Loss: 0.0923, Accuracy: 97.38%\n",
            "Epoch [2/5], Step [500/938], Loss: 0.0834, Accuracy: 97.40%\n",
            "Epoch [2/5], Step [600/938], Loss: 0.0839, Accuracy: 97.41%\n",
            "Epoch [2/5], Step [700/938], Loss: 0.0810, Accuracy: 97.45%\n",
            "Epoch [2/5], Step [800/938], Loss: 0.0793, Accuracy: 97.48%\n",
            "Epoch [2/5], Step [900/938], Loss: 0.0714, Accuracy: 97.53%\n",
            "Validation Accuracy: 98.47%\n",
            "Epoch [3/5], Step [100/938], Loss: 0.0663, Accuracy: 97.80%\n",
            "Epoch [3/5], Step [200/938], Loss: 0.0658, Accuracy: 97.88%\n",
            "Epoch [3/5], Step [300/938], Loss: 0.0568, Accuracy: 97.99%\n",
            "Epoch [3/5], Step [400/938], Loss: 0.0617, Accuracy: 98.06%\n",
            "Epoch [3/5], Step [500/938], Loss: 0.0526, Accuracy: 98.13%\n",
            "Epoch [3/5], Step [600/938], Loss: 0.0691, Accuracy: 98.09%\n",
            "Epoch [3/5], Step [700/938], Loss: 0.0629, Accuracy: 98.13%\n",
            "Epoch [3/5], Step [800/938], Loss: 0.0554, Accuracy: 98.15%\n",
            "Epoch [3/5], Step [900/938], Loss: 0.0622, Accuracy: 98.15%\n",
            "Validation Accuracy: 99.00%\n"
          ]
        }
      ],
      "source": [
        "import torch\n",
        "import torch.nn as nn\n",
        "import torch.optim as optim\n",
        "import torchvision\n",
        "import torchvision.transforms as transforms\n",
        "from torch.utils.data import DataLoader\n",
        "\n",
        "# Define the CNN architecture\n",
        "class MNISTClassifier(nn.Module):\n",
        "    def __init__(self):\n",
        "        super(MNISTClassifier, self).__init__()\n",
        "        # First convolutional layer\n",
        "        self.conv1 = nn.Sequential(\n",
        "            nn.Conv2d(1, 16, kernel_size=5, padding=2),\n",
        "            nn.ReLU(),\n",
        "            nn.MaxPool2d(2)\n",
        "        )\n",
        "        # Second convolutional layer\n",
        "        self.conv2 = nn.Sequential(\n",
        "            nn.Conv2d(16, 32, kernel_size=5, padding=2),\n",
        "            nn.ReLU(),\n",
        "            nn.MaxPool2d(2)\n",
        "        )\n",
        "        # Fully connected layers\n",
        "        self.fc = nn.Sequential(\n",
        "            nn.Linear(32 * 7 * 7, 128),\n",
        "            nn.ReLU(),\n",
        "            nn.Dropout(0.5),\n",
        "            nn.Linear(128, 10)\n",
        "        )\n",
        "\n",
        "    def forward(self, x):\n",
        "        x = self.conv1(x)\n",
        "        x = self.conv2(x)\n",
        "        x = x.view(x.size(0), -1)  # Flatten the tensor\n",
        "        x = self.fc(x)\n",
        "        return x\n",
        "\n",
        "# Training function\n",
        "def train_model(model, train_loader, test_loader, num_epochs=5, device=\"cuda\"):\n",
        "    criterion = nn.CrossEntropyLoss()\n",
        "    optimizer = optim.Adam(model.parameters(), lr=0.001)\n",
        "\n",
        "    model = model.to(device)\n",
        "\n",
        "    for epoch in range(num_epochs):\n",
        "        model.train()\n",
        "        running_loss = 0.0\n",
        "        correct = 0\n",
        "        total = 0\n",
        "\n",
        "        for i, (images, labels) in enumerate(train_loader):\n",
        "            images = images.to(device)\n",
        "            labels = labels.to(device)\n",
        "\n",
        "            # Zero the gradient buffers\n",
        "            optimizer.zero_grad()\n",
        "\n",
        "            # Forward pass\n",
        "            outputs = model(images)\n",
        "            loss = criterion(outputs, labels)\n",
        "\n",
        "            # Backward pass and optimize\n",
        "            loss.backward()\n",
        "            optimizer.step()\n",
        "\n",
        "            # Statistics\n",
        "            running_loss += loss.item()\n",
        "            _, predicted = torch.max(outputs.data, 1)\n",
        "            total += labels.size(0)\n",
        "            correct += (predicted == labels).sum().item()\n",
        "\n",
        "            if (i + 1) % 100 == 0:\n",
        "                print(f'Epoch [{epoch + 1}/{num_epochs}], Step [{i + 1}/{len(train_loader)}], '\n",
        "                      f'Loss: {running_loss/100:.4f}, '\n",
        "                      f'Accuracy: {100 * correct/total:.2f}%')\n",
        "                running_loss = 0.0\n",
        "\n",
        "        # Validation phase\n",
        "        model.eval()\n",
        "        correct = 0\n",
        "        total = 0\n",
        "        with torch.no_grad():\n",
        "            for images, labels in test_loader:\n",
        "                images = images.to(device)\n",
        "                labels = labels.to(device)\n",
        "                outputs = model(images)\n",
        "                _, predicted = torch.max(outputs.data, 1)\n",
        "                total += labels.size(0)\n",
        "                correct += (predicted == labels).sum().item()\n",
        "\n",
        "        print(f'Validation Accuracy: {100 * correct/total:.2f}%')\n",
        "\n",
        "# Main execution\n",
        "def main():\n",
        "    # Check if CUDA is available\n",
        "    device = torch.device(\"cuda\" if torch.cuda.is_available() else \"cpu\")\n",
        "\n",
        "    # Data preprocessing\n",
        "    transform = transforms.Compose([\n",
        "        transforms.ToTensor(),\n",
        "        transforms.Normalize((0.1307,), (0.3081,))  # MNIST mean and std\n",
        "    ])\n",
        "\n",
        "    # Load MNIST dataset\n",
        "    train_dataset = torchvision.datasets.MNIST(root='./data',\n",
        "                                             train=True,\n",
        "                                             transform=transform,\n",
        "                                             download=True)\n",
        "\n",
        "    test_dataset = torchvision.datasets.MNIST(root='./data',\n",
        "                                            train=False,\n",
        "                                            transform=transform,\n",
        "                                            download=True)\n",
        "\n",
        "    # Create data loaders\n",
        "    train_loader = DataLoader(dataset=train_dataset,\n",
        "                            batch_size=64,\n",
        "                            shuffle=True)\n",
        "\n",
        "    test_loader = DataLoader(dataset=test_dataset,\n",
        "                           batch_size=64,\n",
        "                           shuffle=False)\n",
        "\n",
        "    # Initialize the model\n",
        "    model = MNISTClassifier()\n",
        "\n",
        "    # Train the model\n",
        "    train_model(model, train_loader, test_loader, num_epochs=5, device=device)\n",
        "\n",
        "    # Save the model\n",
        "    torch.save(model.state_dict(), 'mnist_cnn.pth')\n",
        "\n",
        "if __name__ == '__main__':\n",
        "    main()"
      ]
    }
  ]
}